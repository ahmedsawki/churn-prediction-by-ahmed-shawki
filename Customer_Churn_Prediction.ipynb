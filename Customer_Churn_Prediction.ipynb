{
  "nbformat": 4,
  "nbformat_minor": 0,
  "metadata": {
    "colab": {
      "provenance": []
    },
    "kernelspec": {
      "name": "python3",
      "display_name": "Python 3"
    },
    "language_info": {
      "name": "python"
    }
  },
  "cells": [
    {
      "cell_type": "code",
      "execution_count": 23,
      "metadata": {
        "id": "XWcW-bveO25g"
      },
      "outputs": [],
      "source": [
        "import pandas as pd\n",
        "import numpy as np\n",
        "import matplotlib.pyplot as plt\n",
        "import seaborn as sns\n",
        "\n",
        "from sklearn.model_selection import train_test_split\n",
        "from sklearn.preprocessing import LabelEncoder, StandardScaler\n",
        "from sklearn.linear_model import LogisticRegression\n",
        "from sklearn.metrics import accuracy_score, classification_report, confusion_matrix, ConfusionMatrixDisplay\n",
        "from xgboost import XGBClassifier\n",
        "from imblearn.over_sampling import SMOTE\n",
        "\n",
        "# إعدادات العرض\n",
        "pd.set_option('display.max_columns', None)\n",
        "sns.set(style=\"whitegrid\")\n"
      ]
    },
    {
      "cell_type": "code",
      "source": [
        "# تحميل البيانات\n",
        "df = pd.read_csv('/content/WA_Fn-UseC_-Telco-Customer-Churn.csv')\n",
        "df.drop('customerID', axis=1, inplace=True)\n",
        "\n",
        "# تحويل TotalCharges\n",
        "df['TotalCharges'] = pd.to_numeric(df['TotalCharges'], errors='coerce')\n",
        "df['TotalCharges'].fillna(df['MonthlyCharges'] * df['tenure'], inplace=True)\n",
        "df.drop_duplicates(inplace=True)\n"
      ],
      "metadata": {
        "colab": {
          "base_uri": "https://localhost:8080/"
        },
        "id": "bUKzdDHttCci",
        "outputId": "b40ecdd7-afa8-4f41-debc-c31fd4ce9427"
      },
      "execution_count": 25,
      "outputs": [
        {
          "output_type": "stream",
          "name": "stderr",
          "text": [
            "/tmp/ipython-input-25-1950196185.py:7: FutureWarning: A value is trying to be set on a copy of a DataFrame or Series through chained assignment using an inplace method.\n",
            "The behavior will change in pandas 3.0. This inplace method will never work because the intermediate object on which we are setting values always behaves as a copy.\n",
            "\n",
            "For example, when doing 'df[col].method(value, inplace=True)', try using 'df.method({col: value}, inplace=True)' or df[col] = df[col].method(value) instead, to perform the operation inplace on the original object.\n",
            "\n",
            "\n",
            "  df['TotalCharges'].fillna(df['MonthlyCharges'] * df['tenure'], inplace=True)\n"
          ]
        }
      ]
    },
    {
      "cell_type": "code",
      "source": [
        "# تحويل SeniorCitizen إلى Yes/No\n",
        "df['SeniorCitizen'] = df['SeniorCitizen'].map({1: 'Yes', 0: 'No'})\n",
        "\n",
        "# إنشاء Features جديدة\n",
        "df['MonthlyChargeCategory'] = pd.cut(df['MonthlyCharges'],\n",
        "                                     bins=[0, 35, 70, df['MonthlyCharges'].max()],\n",
        "                                     labels=['Low', 'Medium', 'High'])\n",
        "\n",
        "df['TenureGroup'] = pd.cut(df['tenure'],\n",
        "                           bins=[0, 12, 24, 48, 72],\n",
        "                           labels=['0-1yr', '1-2yr', '2-4yr', '4-6yr'])\n",
        "\n",
        "# تحويل الأعمدة الثنائية بـ Label Encoding\n",
        "binary_cols = [col for col in df.columns if df[col].nunique() == 2 and df[col].dtype == 'object']\n",
        "le = LabelEncoder()\n",
        "for col in binary_cols:\n",
        "    df[col] = le.fit_transform(df[col])\n",
        "\n",
        "# One-hot Encoding لباقي الأعمدة\n",
        "df = pd.get_dummies(df, drop_first=True)\n"
      ],
      "metadata": {
        "id": "Qxvkr0hatKvc"
      },
      "execution_count": 26,
      "outputs": []
    },
    {
      "cell_type": "code",
      "source": [
        "# فصل الميزات والهدف\n",
        "X = df.drop('Churn', axis=1)\n",
        "y = df['Churn']\n",
        "\n",
        "# Train/Test Split\n",
        "X_train, X_test, y_train, y_test = train_test_split(X, y, test_size=0.2,\n",
        "                                                    stratify=y, random_state=42)\n",
        "\n",
        "# Scaling\n",
        "scaler = StandardScaler()\n",
        "X_train_scaled = scaler.fit_transform(X_train)\n",
        "X_test_scaled = scaler.transform(X_test)\n",
        "\n",
        "# معالجة عدم التوازن بـ SMOTE\n",
        "smote = SMOTE(random_state=42)\n",
        "X_train_bal, y_train_bal = smote.fit_resample(X_train_scaled, y_train)\n"
      ],
      "metadata": {
        "id": "B3a2PVBktPIg"
      },
      "execution_count": 27,
      "outputs": []
    },
    {
      "cell_type": "code",
      "source": [
        "# Logistic Regression\n",
        "log_model = LogisticRegression(max_iter=1000, random_state=42)\n",
        "log_model.fit(X_train_bal, y_train_bal)\n",
        "y_pred_log = log_model.predict(X_test_scaled)\n",
        "\n",
        "# XGBoost\n",
        "xgb_model = XGBClassifier(random_state=42, use_label_encoder=False, eval_metric='logloss')\n",
        "xgb_model.fit(X_train_bal, y_train_bal)\n",
        "y_pred_xgb = xgb_model.predict(X_test_scaled)\n"
      ],
      "metadata": {
        "id": "l4dYhhsstXst"
      },
      "execution_count": 28,
      "outputs": []
    },
    {
      "cell_type": "code",
      "source": [
        "# Logistic Regression\n",
        "print(\"🔵 Logistic Regression\")\n",
        "print(\"Accuracy:\", accuracy_score(y_test, y_pred_log))\n",
        "print(classification_report(y_test, y_pred_log))\n",
        "\n",
        "# XGBoost\n",
        "print(\"🟢 XGBoost\")\n",
        "print(\"Accuracy:\", accuracy_score(y_test, y_pred_xgb))\n",
        "print(classification_report(y_test, y_pred_xgb))\n",
        "\n",
        "# Confusion Matrix\n",
        "ConfusionMatrixDisplay.from_estimator(xgb_model, X_test_scaled, y_test, cmap='Greens')\n",
        "plt.title(\"XGBoost Confusion Matrix\")\n",
        "plt.show()\n"
      ],
      "metadata": {
        "colab": {
          "base_uri": "https://localhost:8080/",
          "height": 862
        },
        "id": "Lv0mWOLWtb9b",
        "outputId": "02e37991-b4f5-4365-d80f-fda0dd529f2a"
      },
      "execution_count": 29,
      "outputs": [
        {
          "output_type": "stream",
          "name": "stdout",
          "text": [
            "🔵 Logistic Regression\n",
            "Accuracy: 0.7487544483985765\n",
            "              precision    recall  f1-score   support\n",
            "\n",
            "           0       0.90      0.74      0.81      1033\n",
            "           1       0.52      0.76      0.62       372\n",
            "\n",
            "    accuracy                           0.75      1405\n",
            "   macro avg       0.71      0.75      0.71      1405\n",
            "weighted avg       0.80      0.75      0.76      1405\n",
            "\n",
            "🟢 XGBoost\n",
            "Accuracy: 0.7758007117437722\n",
            "              precision    recall  f1-score   support\n",
            "\n",
            "           0       0.84      0.86      0.85      1033\n",
            "           1       0.58      0.53      0.56       372\n",
            "\n",
            "    accuracy                           0.78      1405\n",
            "   macro avg       0.71      0.70      0.70      1405\n",
            "weighted avg       0.77      0.78      0.77      1405\n",
            "\n"
          ]
        },
        {
          "output_type": "display_data",
          "data": {
            "text/plain": [
              "<Figure size 640x480 with 2 Axes>"
            ],
            "image/png": "[encoded data removed]"
          },
          "metadata": {}
        }
      ]
    }
  ]
}